{
  "nbformat": 4,
  "nbformat_minor": 0,
  "metadata": {
    "colab": {
      "provenance": []
    },
    "kernelspec": {
      "name": "python3",
      "display_name": "Python 3"
    },
    "language_info": {
      "name": "python"
    }
  },
  "cells": [
    {
      "cell_type": "code",
      "source": [
        "# Answer1-\n",
        "def reverse_string(s):\n",
        "    reversed_str = \"\"\n",
        "    for i in range(len(s) - 1, -1, -1):\n",
        "        reversed_str += s[i]\n",
        "    return reversed_str\n",
        "\n",
        "# Example usage\n",
        "string = \"Hello, World!\"\n",
        "reversed_string = reverse_string(string)\n",
        "print(reversed_string)  # Output: \"!dlroW ,olleH\"\n"
      ],
      "metadata": {
        "id": "1pz5dOKUCVTc"
      },
      "execution_count": null,
      "outputs": []
    },
    {
      "cell_type": "code",
      "source": [
        "# Answer2\n",
        "def is_palindrome(s):\n",
        "    s = s.lower()\n",
        "    reversed_str = reverse_string(s)\n",
        "    return s == reversed_str\n",
        "\n",
        "# Example usage\n",
        "string = \"radar\"\n",
        "if is_palindrome(string):\n",
        "    print(\"Palindrome\")\n",
        "else:\n",
        "    print(\"Not a palindrome\")\n"
      ],
      "metadata": {
        "id": "dUcDROXJCaTg"
      },
      "execution_count": null,
      "outputs": []
    },
    {
      "cell_type": "code",
      "source": [
        "# Answer 3-\n",
        "def find_largest_element(lst):\n",
        "    if not lst:\n",
        "        return None\n",
        "    max_element = lst[0]\n",
        "    for num in lst:\n",
        "        if num > max_element:\n",
        "            max_element = num\n",
        "    return max_element\n",
        "\n",
        "# Example usage\n",
        "numbers = [10, 5, 7, 21, 13]\n",
        "largest_number = find_largest_element(numbers)\n",
        "print(largest_number)  # Output: 21\n"
      ],
      "metadata": {
        "id": "uO9MLTYLChQ9"
      },
      "execution_count": null,
      "outputs": []
    },
    {
      "cell_type": "code",
      "source": [
        "# answer 4-\n",
        "def count_occurrences(lst):\n",
        "    count_dict = {}\n",
        "    for element in lst:\n",
        "        if element in count_dict:\n",
        "            count_dict[element] += 1\n",
        "        else:\n",
        "            count_dict[element] = 1\n",
        "    return count_dict\n",
        "\n",
        "# Example usage\n",
        "numbers = [1, 2, 3, 2, 1, 3, 3, 4, 5, 4, 4]\n",
        "occurrences = count_occurrences(numbers)\n",
        "print(occurrences)  # Output: {1: 2, 2: 2, 3: 3, 4: 3, 5: 1}\n"
      ],
      "metadata": {
        "id": "FW1of0MWCoTW"
      },
      "execution_count": null,
      "outputs": []
    },
    {
      "cell_type": "code",
      "source": [
        "#answer 5\n",
        "def find_second_largest(lst):\n",
        "    if len(lst) < 2:\n",
        "        return None\n",
        "    max_num = max(lst[0], lst[1])\n",
        "    second_max = min(lst[0], lst[1])\n",
        "    for num in lst[2:]:\n",
        "        if num > max_num:\n",
        "            second_max = max_num\n",
        "            max_num = num\n",
        "        elif num > second_max:\n",
        "            second_max = num\n",
        "    return second_max\n",
        "\n",
        "# Example usage\n",
        "numbers = [5, 10, 3, 8, 7]\n",
        "second_largest = find_second_largest(numbers)\n",
        "print(second_largest)  # Output: 8\n"
      ],
      "metadata": {
        "id": "gSFO5dpsCvrv"
      },
      "execution_count": null,
      "outputs": []
    },
    {
      "cell_type": "code",
      "source": [
        "#  answer 6\n",
        "def find_second_largest(lst):\n",
        "    if len(lst) < 2:\n",
        "        return None\n",
        "    max_num = max(lst[0], lst[1])\n",
        "    second_max = min(lst[0], lst[1])\n",
        "    for num in lst[2:]:\n",
        "        if num > max_num:\n",
        "            second_max = max_num\n",
        "            max_num = num\n",
        "        elif num > second_max:\n",
        "            second_max = num\n",
        "    return second_max\n",
        "\n",
        "# Example usage\n",
        "numbers = [5, 10, 3, 8, 7]\n",
        "second_largest = find_second_largest(numbers)\n",
        "print(second_largest)  # Output: 8\n"
      ],
      "metadata": {
        "id": "CI5PhTz0C024"
      },
      "execution_count": null,
      "outputs": []
    },
    {
      "cell_type": "code",
      "source": [
        "# Answer 7\n",
        "def remove_duplicates(lst):\n",
        "    return list(set(lst))\n",
        "\n",
        "# Example usage\n",
        "numbers = [1, 2, 3, 2, 1, 3, 3, 4, 5, 4, 4]\n",
        "unique_numbers = remove_duplicates(numbers)\n",
        "print(unique_numbers)  # Output: [1, 2, 3, 4, 5]\n"
      ],
      "metadata": {
        "id": "axiUxd9rC8Lg"
      },
      "execution_count": null,
      "outputs": []
    },
    {
      "cell_type": "code",
      "source": [
        "# Answer 8\n",
        "def factorial(n):\n",
        "    if n == 0:\n",
        "        return 1\n",
        "    fact = 1\n",
        "    for i in range(1, n + 1):\n",
        "        fact *= i\n",
        "    return fact\n",
        "\n",
        "# Example usage\n",
        "num = 5\n",
        "result = factorial(num)\n",
        "print(result)  # Output: 120\n"
      ],
      "metadata": {
        "id": "zQNgp8NTDBXe"
      },
      "execution_count": null,
      "outputs": []
    },
    {
      "cell_type": "code",
      "source": [
        "# Answer 8\n",
        "def is_prime(n):\n",
        "    if n < 2:\n",
        "        return False\n",
        "    for i in range(2, int(n ** 0.5) + 1):\n",
        "        if n % i == 0:\n",
        "            return False\n",
        "    return True\n",
        "\n",
        "# Example usage\n",
        "number = 17\n",
        "if is_prime(number):\n",
        "    print(\"Prime\")\n",
        "else:\n",
        "    print(\"Not prime\")\n"
      ],
      "metadata": {
        "id": "-DNXzl-QDGWU"
      },
      "execution_count": null,
      "outputs": []
    },
    {
      "cell_type": "code",
      "source": [
        "# Answer 9\n",
        "def sort_list(lst):\n",
        "    return sorted(lst)\n",
        "\n",
        "# Example usage\n",
        "numbers = [5, 2, 8, 1, 9]\n",
        "sorted_numbers = sort_list(numbers)\n",
        "print(sorted_numbers)  # Output: [1, 2, 5, 8, 9]\n"
      ],
      "metadata": {
        "id": "_b2MNtT1DLbc"
      },
      "execution_count": null,
      "outputs": []
    },
    {
      "cell_type": "code",
      "source": [
        "#answer 10\n",
        "def sum_list(lst):\n",
        "    total = 0\n",
        "    for num in lst:\n",
        "        total += num\n",
        "    return total\n",
        "\n",
        "# Example usage\n",
        "numbers = [1, 2, 3, 4, 5]\n",
        "total_sum = sum_list(numbers)\n",
        "print(total_sum)  # Output: 15\n"
      ],
      "metadata": {
        "id": "Xz4fBI5sDSQn"
      },
      "execution_count": null,
      "outputs": []
    },
    {
      "cell_type": "code",
      "source": [
        "# answer 11\n",
        "def find_common_elements(lst1, lst2):\n",
        "    return list(set(lst1) & set(lst2))\n",
        "\n",
        "# Example usage\n",
        "list1 = [1, 2, 3, 4, 5]\n",
        "list2 = [4, 5, 6, 7, 8]\n",
        "common_elements = find_common_elements(list1, list2)\n",
        "print(common_elements)  # Output: [4, 5]\n"
      ],
      "metadata": {
        "id": "DU-iV5EXDV5E"
      },
      "execution_count": null,
      "outputs": []
    },
    {
      "cell_type": "code",
      "source": [
        "# answer 12\n",
        "def is_anagram(str1, str2):\n",
        "    str1 = str1.lower()\n",
        "    str2 = str2.lower()\n",
        "    return sorted(str1) == sorted(str2)\n",
        "\n",
        "# Example usage\n",
        "string1 = \"listen\"\n",
        "string2 = \"silent\"\n",
        "if is_anagram(string1, string2):\n",
        "    print(\"Anagram\")\n",
        "else:\n",
        "    print(\"Not an anagram\")\n"
      ],
      "metadata": {
        "id": "byp2PbVPDamF"
      },
      "execution_count": null,
      "outputs": []
    },
    {
      "cell_type": "code",
      "source": [
        "# answer 13\n",
        "def generate_permutations(s):\n",
        "    if len(s) <= 1:\n",
        "        return [s]\n",
        "    permutations = []\n",
        "    for i in range(len(s)):\n",
        "        char = s[i]\n",
        "        remaining_chars = s[:i] + s[i+1:]\n",
        "        for perm in generate_permutations(remaining_chars):\n",
        "            permutations.append(char + perm)\n",
        "    return permutations\n",
        "\n",
        "# Example usage\n",
        "string = \"abc\"\n",
        "permutations = generate_permutations(string)\n",
        "print(permutations)  # Output: ['abc', 'acb', 'bac', 'bca', 'cab', 'cba']\n",
        "\n"
      ],
      "metadata": {
        "id": "sKA6-g3mDd0-"
      },
      "execution_count": null,
      "outputs": []
    },
    {
      "cell_type": "code",
      "source": [
        "# answer 14\n",
        "def fibonacci_sequence(n):\n",
        "    if n <= 0:\n",
        "        return []\n",
        "    sequence = [0]\n",
        "    if n == 1:\n",
        "        return sequence\n",
        "    sequence.append(1)\n",
        "    if n == 2:\n",
        "        return sequence\n",
        "    while len(sequence) < n:\n",
        "        next_num = sequence[-1] + sequence[-2]\n",
        "        sequence.append(next_num)\n",
        "    return sequence\n",
        "\n",
        "# Example usage\n",
        "num_terms = 8\n",
        "fib_sequence = fibonacci_sequence(num_terms)\n",
        "print(fib_sequence)  # Output: [0, 1, 1, 2, 3, 5, 8, 13]\n"
      ],
      "metadata": {
        "id": "OYNuUwIwDkZ7"
      },
      "execution_count": null,
      "outputs": []
    },
    {
      "cell_type": "code",
      "source": [
        "# answer 15\n",
        "def find_median(lst):\n",
        "    sorted_lst = sorted(lst)\n",
        "    n = len(sorted_lst)\n",
        "    if n % 2 == 1:\n",
        "        return sorted_lst[n // 2]\n",
        "    else:\n",
        "        mid1 = sorted_lst[n // 2 - 1]\n",
        "        mid2 = sorted_lst[n // 2]\n",
        "        return (mid1 + mid2) / 2\n",
        "\n",
        "# Example usage\n",
        "numbers = [3, 1, 4, 2, 5]\n",
        "median = find_median(numbers)\n",
        "print(median)  # Output: 3\n"
      ],
      "metadata": {
        "id": "CnQR0i_qDqRF"
      },
      "execution_count": null,
      "outputs": []
    },
    {
      "cell_type": "code",
      "source": [
        "# answer 16\n",
        "def is_sorted(lst):\n",
        "    return all(lst[i] <= lst[i+1] for i in range(len(lst)-1))\n",
        "\n",
        "# Example usage\n",
        "numbers1 = [1, 2, 3, 4, 5]\n",
        "numbers2 = [3, 1, 4, 2, 5]\n",
        "if is_sorted(numbers1):\n",
        "    print(\"Sorted\")\n",
        "else:\n",
        "    print(\"Not sorted\")\n"
      ],
      "metadata": {
        "id": "GS5PwjA8Dt3N"
      },
      "execution_count": null,
      "outputs": []
    },
    {
      "cell_type": "code",
      "source": [
        "#answer 17\n",
        "def find_intersection(lst1, lst2):\n",
        "    return list(set(lst1) & set(lst2))\n",
        "\n",
        "# Example usage\n",
        "list1 = [1, 2, 3, 4, 5]\n",
        "list2 = [4, 5, 6, 7, 8]\n",
        "intersection = find_intersection(list1, list2)\n",
        "print(intersection)  # Output: [4, 5]\n"
      ],
      "metadata": {
        "id": "Ec2egC8MD08e"
      },
      "execution_count": null,
      "outputs": []
    },
    {
      "cell_type": "code",
      "source": [
        "#answer 18\n",
        "def max_subarray_sum(lst):\n",
        "    max_sum = float('-inf')\n",
        "    current_sum = 0\n",
        "    for num in lst:\n",
        "        current_sum = max(num, current_sum + num)\n",
        "        max_sum = max(max_sum, current_sum)\n",
        "    return max_sum\n",
        "\n",
        "# Example usage\n",
        "numbers = [-2, 1, -3, 4, -1, 2, 1, -5, 4]\n",
        "max_sum = max_subarray_sum(numbers)\n",
        "print(max_sum)  # Output: 6\n"
      ],
      "metadata": {
        "id": "iBjpcgY8D5HX"
      },
      "execution_count": null,
      "outputs": []
    },
    {
      "cell_type": "code",
      "source": [
        "# answer 19\n",
        "def remove_vowels(s):\n",
        "    vowels = \"aeiouAEIOU\"\n",
        "    return ''.join(char for char in s if char not in vowels)\n",
        "\n",
        "# Example usage\n",
        "string = \"Hello, World!\"\n",
        "without_vowels = remove_vowels(string)\n",
        "print(without_vowels)  # Output: \"Hll, Wrld!\"\n"
      ],
      "metadata": {
        "id": "UL0t2cpGD8WU"
      },
      "execution_count": null,
      "outputs": []
    },
    {
      "cell_type": "code",
      "source": [
        "# answer 20\n",
        "def reverse_words(sentence):\n",
        "    words = sentence.split()\n",
        "    reversed_words = ' '.join(reversed(words))\n",
        "    return reversed_words\n",
        "\n",
        "# Example usage\n",
        "sentence = \"Hello, World! How are you?\"\n",
        "reversed_sentence = reverse_words(sentence)\n",
        "print(reversed_sentence)  # Output: \"you? are How World! Hello,\"\n"
      ],
      "metadata": {
        "id": "_j3J4oYMD8cX"
      },
      "execution_count": null,
      "outputs": []
    },
    {
      "cell_type": "code",
      "source": [
        "# answer 21\n",
        "def is_anagram(str1, str2):\n",
        "    str1 = str1.lower()\n",
        "    str2 = str2.lower()\n",
        "    return sorted(str1) == sorted(str2)\n",
        "\n",
        "# Example usage\n",
        "string1 = \"listen\"\n",
        "string2 = \"silent\"\n",
        "if is_anagram(string1, string2):\n",
        "    print(\"Anagram\")\n",
        "else:\n",
        "    print(\"Not an anagram\")\n"
      ],
      "metadata": {
        "id": "2Y_VI7UBEHuD"
      },
      "execution_count": null,
      "outputs": []
    },
    {
      "cell_type": "code",
      "source": [
        "# answer 22\n",
        "def find_first_non_repeating(s):\n",
        "    char_count = {}\n",
        "    for char in s:\n",
        "        if char in char_count:\n",
        "            char_count[char] += 1\n",
        "        else:\n",
        "            char_count[char] = 1\n",
        "    for char in s:\n",
        "        if char_count[char] == 1:\n",
        "            return char\n",
        "    return None\n",
        "\n",
        "# Example usage\n",
        "string = \"aabccdefg\"\n",
        "first_non_repeating = find_first_non_repeating(string)\n",
        "print(first_non_repeating)  # Output: \"b\"\n"
      ],
      "metadata": {
        "id": "rRWQjauqELS3"
      },
      "execution_count": null,
      "outputs": []
    },
    {
      "cell_type": "code",
      "source": [
        "# answer 23\n",
        "def find_prime_factors(n):\n",
        "    factors = []\n",
        "    i = 2\n",
        "    while i * i <= n:\n",
        "        if n % i:\n",
        "            i += 1\n",
        "        else:\n",
        "            n //= i\n",
        "            factors.append(i)\n",
        "    if n > 1:\n",
        "        factors.append(n)\n",
        "    return factors\n",
        "\n",
        "# Example usage\n",
        "number = 36\n",
        "prime_factors = find_prime_factors(number)\n",
        "print(prime_factors)  # Output: [2, 2, 3, 3]\n"
      ],
      "metadata": {
        "id": "YMWiz94MEQe8"
      },
      "execution_count": null,
      "outputs": []
    },
    {
      "cell_type": "code",
      "source": [
        "# answer 24\n",
        "def is_power_of_two(n):\n",
        "    return n > 0 and (n & (n - 1)) == 0\n",
        "\n",
        "# Example usage\n",
        "number = 16\n",
        "if is_power_of_two(number):\n",
        "    print(\"Power of two\")\n",
        "else:\n",
        "    print(\"Not a power of two\")\n",
        "\n"
      ],
      "metadata": {
        "id": "jarpkAOLEuHP"
      },
      "execution_count": null,
      "outputs": []
    },
    {
      "cell_type": "code",
      "source": [
        "#answer 25\n",
        "def merge_sorted_lists(lst1, lst2):\n",
        "    merged_list = []\n",
        "    i, j = 0, 0\n",
        "    while i < len(lst1) and j < len(lst2):\n",
        "        if lst1[i] < lst2[j]:\n",
        "            merged_list.append(lst1[i])\n",
        "            i += 1\n",
        "        else:\n",
        "            merged_list.append(lst2[j])\n",
        "            j += 1\n",
        "    while i < len(lst1):\n",
        "        merged_list.append(lst1[i])\n",
        "        i += 1\n",
        "    while j < len(lst2):\n",
        "        merged_list.append(lst2[j])\n",
        "        j += 1\n",
        "    return merged_list\n",
        "\n",
        "# Example usage\n",
        "list1 = [1, 3, 5]\n",
        "list2 = [2, 4, 6]\n",
        "merged_list = merge_sorted_lists(list1, list2)\n",
        "print(merged_list)  # Output: [1, 2, 3, 4, 5, 6]\n",
        "\n"
      ],
      "metadata": {
        "id": "zKqnVq0rEzUa"
      },
      "execution_count": null,
      "outputs": []
    },
    {
      "cell_type": "code",
      "source": [
        "# answer 26\n",
        "def find_mode(lst):\n",
        "    count_dict = {}\n",
        "    for num in lst:\n",
        "        if num in count_dict:\n",
        "            count_dict[num] += 1\n",
        "        else:\n",
        "            count_dict[num] = 1\n",
        "    max_count = max(count_dict.values())\n",
        "    mode = [num for num, count in count_dict.items() if count == max_count]\n",
        "    return mode\n",
        "\n",
        "# Example usage\n",
        "numbers = [1, 2, 3, 2, 1, 3, 3, 4, 5, 4, 4]\n",
        "mode = find_mode(numbers)\n",
        "print(mode)  # Output: [3, 4]\n"
      ],
      "metadata": {
        "id": "Ddfe4-51E6by"
      },
      "execution_count": null,
      "outputs": []
    },
    {
      "cell_type": "code",
      "source": [
        "# answer 27\n",
        "def gcd(a, b):\n",
        "    while b != 0:\n",
        "        a, b = b, a % b\n",
        "    return a\n",
        "\n",
        "# Example usage\n",
        "num1 = 24\n",
        "num2 = 36\n",
        "gcd_result = gcd(num1, num2)\n",
        "print(gcd_result)  # Output: 12\n"
      ],
      "metadata": {
        "id": "9NI5nqDUE_My"
      },
      "execution_count": null,
      "outputs": []
    },
    {
      "cell_type": "code",
      "source": [
        "# answer 28-\n",
        "def square_root(n):\n",
        "    if n < 0:\n",
        "        raise ValueError(\"Square root undefined for negative numbers\")\n",
        "    if n == 0:\n",
        "        return 0\n",
        "    x = n\n",
        "    y = (x + 1) // 2\n",
        "    while y < x:\n",
        "        x = y\n",
        "        y = (x + n // x) // 2\n",
        "    return x\n",
        "\n",
        "# Example usage\n",
        "number = 16\n",
        "sqrt\n",
        "\n"
      ],
      "metadata": {
        "id": "LbLsLmJiFGsM"
      },
      "execution_count": null,
      "outputs": []
    },
    {
      "cell_type": "code",
      "source": [
        "# answer 29\n",
        "import re\n",
        "\n",
        "def is_valid_palindrome(s):\n",
        "    s = re.sub(r'[^a-zA-Z0-9]', '', s.lower())\n",
        "    return s == s[::-1]\n",
        "\n",
        "# Example usage\n",
        "string = \"A man, a plan, a canal: Panama\"\n",
        "if is_valid_palindrome(string):\n",
        "    print(\"Valid palindrome\")\n",
        "else:\n",
        "    print(\"Not a valid palindrome\")\n"
      ],
      "metadata": {
        "colab": {
          "base_uri": "https://localhost:8080/"
        },
        "id": "aSPCN0c4FLWc",
        "outputId": "2a845a66-390d-4c64-d0cb-10e0db2e6da2"
      },
      "execution_count": 1,
      "outputs": [
        {
          "output_type": "stream",
          "name": "stdout",
          "text": [
            "Valid palindrome\n"
          ]
        }
      ]
    },
    {
      "cell_type": "code",
      "source": [
        "# answer 30\n",
        "def find_minimum_rotated(lst):\n",
        "    start = 0\n",
        "    end = len(lst) - 1\n",
        "    while start < end:\n",
        "        mid = start + (end - start) // 2\n",
        "        if lst[mid] > lst[end]:\n",
        "            start = mid + 1\n",
        "        else:\n",
        "            end = mid\n",
        "    return lst[start]\n",
        "\n",
        "# Example usage\n",
        "numbers = [4, 5, 6, 7, 0, 1, 2]\n",
        "min_rotated = find_minimum_rotated(numbers)\n",
        "print(min_rotated)  # Output: 0\n"
      ],
      "metadata": {
        "id": "jtIu5IO-FeOf"
      },
      "execution_count": null,
      "outputs": []
    },
    {
      "cell_type": "code",
      "source": [
        "# answer 31\n",
        "def sum_even_numbers(lst):\n",
        "    return sum(num for num in lst if num % 2 == 0)\n",
        "\n",
        "# Example usage\n",
        "numbers = [1, 2, 3, 4, 5, 6, 7, 8, 9, 10]\n",
        "even_sum = sum_even_numbers(numbers)\n",
        "print(even_sum)  # Output: 30\n"
      ],
      "metadata": {
        "id": "kYb31SciH2xv"
      },
      "execution_count": null,
      "outputs": []
    },
    {
      "cell_type": "code",
      "source": [
        "# answer 32\n",
        "def power(base, exponent):\n",
        "    if exponent == 0:\n",
        "        return 1\n",
        "    elif exponent > 0:\n",
        "        return base * power(base, exponent - 1)\n",
        "    else:\n",
        "        return 1 / power(base, -exponent)\n",
        "\n",
        "# Example usage\n",
        "base = 2\n",
        "exponent = 3\n",
        "result = power(base, exponent)\n",
        "print(result)  # Output: 8\n"
      ],
      "metadata": {
        "colab": {
          "base_uri": "https://localhost:8080/"
        },
        "id": "qjX5UNUuH7Sp",
        "outputId": "8dc33152-1318-4d64-bb66-6d0c91dbcab5"
      },
      "execution_count": 2,
      "outputs": [
        {
          "output_type": "stream",
          "name": "stdout",
          "text": [
            "8\n"
          ]
        }
      ]
    },
    {
      "cell_type": "code",
      "source": [
        "# answer 33\n",
        "def remove_duplicates_preserve_order(lst):\n",
        "    unique_elements = []\n",
        "    seen = set()\n",
        "    for element in lst:\n",
        "        if element not in seen:\n",
        "            unique_elements.append(element)\n",
        "            seen.add(element)\n",
        "    return unique_elements\n",
        "\n",
        "# Example usage\n",
        "numbers = [1, 2, 3, 2, 1, 3, 3, 4, 5, 4, 4]\n",
        "unique_numbers = remove_duplicates_preserve_order(numbers)\n",
        "print(unique_numbers)  # Output: [1, 2, 3, 4, 5]\n"
      ],
      "metadata": {
        "colab": {
          "base_uri": "https://localhost:8080/"
        },
        "id": "G6fn4hjzH_ry",
        "outputId": "d0baca81-08b3-441d-a2d4-8a6aef64d2e5"
      },
      "execution_count": 3,
      "outputs": [
        {
          "output_type": "stream",
          "name": "stdout",
          "text": [
            "[1, 2, 3, 4, 5]\n"
          ]
        }
      ]
    },
    {
      "cell_type": "code",
      "source": [
        "# answer 34\n",
        "\n",
        "def longest_common_prefix(strs):\n",
        "    if not strs:\n",
        "        return \"\"\n",
        "    prefix = strs[0]\n",
        "    for i in range(1, len(strs)):\n",
        "        while not strs[i].startswith(prefix):\n",
        "            prefix = prefix[:-1]\n",
        "            if not prefix:\n",
        "                return \"\"\n",
        "    return prefix\n",
        "\n",
        "# Example usage\n",
        "strings = [\"flower\", \"flow\", \"flight\"]\n",
        "common_prefix = longest_common_prefix(strings)\n",
        "print(common_prefix)  # Output: \"fl\"\n"
      ],
      "metadata": {
        "colab": {
          "base_uri": "https://localhost:8080/"
        },
        "id": "JXZqLZUIIEqD",
        "outputId": "56c0d989-0bcf-4c8c-ca0f-38ce084d99bf"
      },
      "execution_count": 4,
      "outputs": [
        {
          "output_type": "stream",
          "name": "stdout",
          "text": [
            "fl\n"
          ]
        }
      ]
    },
    {
      "cell_type": "code",
      "source": [
        "# answer 35\n",
        "def is_perfect_square(num):\n",
        "    if num < 0:\n",
        "        return False\n",
        "    root = int(num ** 0.5)\n",
        "    return root * root == num\n",
        "\n",
        "# Example usage\n",
        "number = 16\n",
        "if is_perfect_square(number):\n",
        "    print(\"Perfect square\")\n",
        "else:\n",
        "    print(\"Not a perfect square\")\n"
      ],
      "metadata": {
        "colab": {
          "base_uri": "https://localhost:8080/"
        },
        "id": "FaqChGLmIKve",
        "outputId": "4c42a437-48d6-412a-b1f7-c30579eefd3a"
      },
      "execution_count": 5,
      "outputs": [
        {
          "output_type": "stream",
          "name": "stdout",
          "text": [
            "Perfect square\n"
          ]
        }
      ]
    },
    {
      "cell_type": "code",
      "source": [
        "# answer 36\n",
        "def product_of_elements(lst):\n",
        "    if not lst:\n",
        "        return 1\n",
        "    product = 1\n",
        "    for num in lst:\n",
        "        product *= num\n",
        "    return product\n",
        "\n",
        "# Example usage\n",
        "numbers = [1, 2, 3, 4, 5]\n",
        "product = product_of_elements(numbers)\n",
        "print(product)  # Output: 120\n"
      ],
      "metadata": {
        "colab": {
          "base_uri": "https://localhost:8080/"
        },
        "id": "JGGmWeFhIN3P",
        "outputId": "98ef9355-d5d1-4258-cfc9-99ffcdaa5cfc"
      },
      "execution_count": 6,
      "outputs": [
        {
          "output_type": "stream",
          "name": "stdout",
          "text": [
            "120\n"
          ]
        }
      ]
    },
    {
      "cell_type": "code",
      "source": [
        "# answer 37\n",
        "def reverse_word_order(sentence):\n",
        "    words = sentence.split()\n",
        "    reversed_words = ' '.join(reversed(words))\n",
        "    return reversed_words\n",
        "\n",
        "# Example usage\n",
        "sentence = \"Hello, World! How are you?\"\n",
        "reversed_sentence = reverse_word_order(sentence)\n",
        "print(reversed_sentence)  # Output: \"you? are How World! Hello,\"\n"
      ],
      "metadata": {
        "colab": {
          "base_uri": "https://localhost:8080/"
        },
        "id": "WqAL6V6sIS5M",
        "outputId": "a02ecb63-9089-4631-f18a-0097c91ca62b"
      },
      "execution_count": 7,
      "outputs": [
        {
          "output_type": "stream",
          "name": "stdout",
          "text": [
            "you? are How World! Hello,\n"
          ]
        }
      ]
    },
    {
      "cell_type": "code",
      "source": [
        "# answer 38\n",
        "def find_missing_number(lst):\n",
        "    n = len(lst) + 1\n",
        "    expected_sum = n * (n + 1) // 2\n",
        "    actual_sum = sum(lst)\n",
        "    return expected_sum - actual_sum\n",
        "\n",
        "# Example usage\n",
        "numbers = [1, 2, 3, 5, 6]\n",
        "missing_number = find_missing_number(numbers)\n",
        "print(missing_number)  # Output: 4\n"
      ],
      "metadata": {
        "colab": {
          "base_uri": "https://localhost:8080/"
        },
        "id": "ZB6D-Sw1IXFb",
        "outputId": "17f289d8-8b75-4864-a53b-766be1d3b02e"
      },
      "execution_count": 8,
      "outputs": [
        {
          "output_type": "stream",
          "name": "stdout",
          "text": [
            "4\n"
          ]
        }
      ]
    },
    {
      "cell_type": "code",
      "source": [
        "# answer 39\n",
        "def sum_of_digits(n):\n",
        "    total = 0\n",
        "    while n > 0:\n",
        "        total += n % 10\n",
        "        n //= 10\n",
        "    return total\n",
        "\n",
        "# Example usage\n",
        "number = 12345\n",
        "digit_sum = sum_of_digits(number)\n",
        "print(digit_sum)  # Output: 15\n"
      ],
      "metadata": {
        "colab": {
          "base_uri": "https://localhost:8080/"
        },
        "id": "SpJOiA3kIa-1",
        "outputId": "c380b0d9-216a-41ac-a0c3-9394aeefb475"
      },
      "execution_count": 9,
      "outputs": [
        {
          "output_type": "stream",
          "name": "stdout",
          "text": [
            "15\n"
          ]
        }
      ]
    },
    {
      "cell_type": "code",
      "source": [
        "# answer 40\n",
        "def is_valid_palindrome_case_sensitive(s):\n",
        "    return s == s[::-1]\n",
        "\n",
        "# Example usage\n",
        "string = \"racecar\"\n",
        "if is_valid_palindrome_case_sensitive(string):\n",
        "    print(\"Valid palindrome\")\n",
        "else:\n",
        "    print(\"Not a valid palindrome\")\n"
      ],
      "metadata": {
        "colab": {
          "base_uri": "https://localhost:8080/"
        },
        "id": "Y755tyIQIeKF",
        "outputId": "42f9795f-c511-44d1-83df-add7bce1d155"
      },
      "execution_count": 10,
      "outputs": [
        {
          "output_type": "stream",
          "name": "stdout",
          "text": [
            "Valid palindrome\n"
          ]
        }
      ]
    },
    {
      "cell_type": "code",
      "source": [
        "# answer 41\n",
        "def find_smallest_missing_positive(lst):\n",
        "    n = len(lst)\n",
        "    for i in range(n):\n",
        "        while 1 <= lst[i] <= n and lst[lst[i] - 1] != lst[i]:\n",
        "            lst[lst[i] - 1], lst[i] = lst[i], lst[lst[i] - 1]\n",
        "    for i in range(n):\n",
        "        if lst[i] != i + 1:\n",
        "            return i + 1\n",
        "    return n + 1\n",
        "\n",
        "# Example usage\n",
        "numbers = [3, 4, -1, 1]\n",
        "smallest_missing = find_smallest_missing_positive(numbers)\n",
        "print(smallest_missing)  # Output: 2\n"
      ],
      "metadata": {
        "colab": {
          "base_uri": "https://localhost:8080/"
        },
        "id": "NWn05XAVIiUV",
        "outputId": "f055f354-2381-46b1-e8c5-8c59ef2bfff7"
      },
      "execution_count": 11,
      "outputs": [
        {
          "output_type": "stream",
          "name": "stdout",
          "text": [
            "2\n"
          ]
        }
      ]
    },
    {
      "cell_type": "code",
      "source": [
        "# answer 42\n",
        "def longest_palindrome_substring(s):\n",
        "    longest = \"\"\n",
        "    for i in range(len(s)):\n",
        "        odd_palindrome = expand_from_center(s, i, i)\n",
        "        even_palindrome = expand_from_center(s, i, i+1)\n",
        "        longest = max(longest, odd_palindrome, even_palindrome, key=len)\n",
        "    return longest\n",
        "\n",
        "def expand_from_center(s, left, right):\n",
        "    while left >= 0 and right < len(s) and s[left] == s[right]:\n",
        "        left -= 1\n",
        "        right += 1\n",
        "    return s[left+1:right]\n",
        "\n",
        "# Example usage\n",
        "string = \"babadad\"\n",
        "longest_palindrome = longest_palindrome_substring(string)\n",
        "print(longest_palindrome)  # Output: \"bab\"\n",
        "\n"
      ],
      "metadata": {
        "colab": {
          "base_uri": "https://localhost:8080/"
        },
        "id": "pI0r3trsIm6d",
        "outputId": "92571fa6-c2da-4d49-e000-b18dd4921a9f"
      },
      "execution_count": 13,
      "outputs": [
        {
          "output_type": "stream",
          "name": "stdout",
          "text": [
            "bab\n"
          ]
        }
      ]
    },
    {
      "cell_type": "code",
      "source": [
        "# answer 43\n",
        "def count_occurrences(lst, element):\n",
        "    return lst.count(element)\n",
        "\n",
        "# Example usage\n",
        "numbers = [1, 2, 3, 2, 1, 3, 3, 4, 5, 4, 4]\n",
        "element = 3\n",
        "occurrences = count_occurrences(numbers, element)\n",
        "print(occurrences)  # Output: 3\n"
      ],
      "metadata": {
        "colab": {
          "base_uri": "https://localhost:8080/"
        },
        "id": "G0tSguVfIq1Z",
        "outputId": "0fb25e84-6ac5-466f-e4c3-2db0a98a5d7c"
      },
      "execution_count": 14,
      "outputs": [
        {
          "output_type": "stream",
          "name": "stdout",
          "text": [
            "3\n"
          ]
        }
      ]
    },
    {
      "cell_type": "code",
      "source": [
        "# answer 44\n",
        "def is_perfect_number(n):\n",
        "    if n <= 0:\n",
        "        return False\n",
        "    divisors = [1]\n",
        "    for i in range(2, int(n ** 0.5) + 1):\n",
        "        if n % i == 0:\n",
        "            divisors.append(i)\n",
        "            if i != n // i:\n",
        "                divisors.append(n // i)\n",
        "    return sum(divisors) == n\n",
        "\n",
        "# Example usage\n",
        "number = 28\n",
        "if is_perfect_number(number):\n",
        "    print(\"Perfect number\")\n",
        "else:\n",
        "    print(\"Not a perfect number\")\n"
      ],
      "metadata": {
        "colab": {
          "base_uri": "https://localhost:8080/"
        },
        "id": "s20ldFoiIvgM",
        "outputId": "db0d88ac-d9b4-4d4a-f6c3-db97600c7110"
      },
      "execution_count": 15,
      "outputs": [
        {
          "output_type": "stream",
          "name": "stdout",
          "text": [
            "Perfect number\n"
          ]
        }
      ]
    },
    {
      "cell_type": "code",
      "source": [
        "# answer 45\n",
        "def remove_duplicates_from_string(s):\n",
        "    return ''.join(set(s))\n",
        "\n",
        "# Example usage\n",
        "string = \"Hello, World!\"\n",
        "unique_chars = remove_duplicates_from_string(string)\n",
        "print(unique_chars)  # Output: \" WcrHoleld!\"\n"
      ],
      "metadata": {
        "colab": {
          "base_uri": "https://localhost:8080/"
        },
        "id": "q3D_-hziIyoH",
        "outputId": "685187dc-ed86-4d83-f0e9-e70f6544262b"
      },
      "execution_count": 16,
      "outputs": [
        {
          "output_type": "stream",
          "name": "stdout",
          "text": [
            "!,WHoe rdl\n"
          ]
        }
      ]
    },
    {
      "cell_type": "code",
      "source": [
        "# answer 46\n",
        "def find_first_missing_positive(nums):\n",
        "    n = len(nums)\n",
        "    for i in range(n):\n",
        "        while 1 <= nums[i] <= n and nums[nums[i] - 1] != nums[i]:\n",
        "            nums[nums[i] - 1], nums[i] = nums[i], nums[nums[i] - 1]\n",
        "    for i in range(n):\n",
        "        if nums[i] != i + 1:\n",
        "            return i + 1\n",
        "    return n + 1\n",
        "\n",
        "# Example usage\n",
        "numbers = [3, 4, -1, 1]\n",
        "first_missing_positive = find_first_missing_positive(numbers)\n",
        "print(first_missing_positive)  # Output: 2\n"
      ],
      "metadata": {
        "colab": {
          "base_uri": "https://localhost:8080/"
        },
        "id": "ka4lg75QI3q-",
        "outputId": "1679af27-7178-4312-f78e-d89766dc7423"
      },
      "execution_count": 17,
      "outputs": [
        {
          "output_type": "stream",
          "name": "stdout",
          "text": [
            "2\n"
          ]
        }
      ]
    }
  ]
}